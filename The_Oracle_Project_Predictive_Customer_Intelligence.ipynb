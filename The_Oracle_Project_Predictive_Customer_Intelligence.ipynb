{
  "nbformat": 4,
  "nbformat_minor": 0,
  "metadata": {
    "colab": {
      "provenance": [],
      "authorship_tag": "ABX9TyNnYSxtF7Q38iYkhoJhxhtT",
      "include_colab_link": true
    },
    "kernelspec": {
      "name": "python3",
      "display_name": "Python 3"
    },
    "language_info": {
      "name": "python"
    }
  },
  "cells": [
    {
      "cell_type": "markdown",
      "metadata": {
        "id": "view-in-github",
        "colab_type": "text"
      },
      "source": [
        "<a href=\"https://colab.research.google.com/github/khoji-code/Data-Science-AI-for-Business-Portfolio/blob/main/The_Oracle_Project_Predictive_Customer_Intelligence.ipynb\" target=\"_parent\"><img src=\"https://colab.research.google.com/assets/colab-badge.svg\" alt=\"Open In Colab\"/></a>"
      ]
    },
    {
      "cell_type": "markdown",
      "source": [
        "# The Oracle Project Predictive Customer Intelligence"
      ],
      "metadata": {
        "id": "r2V7Dvyj6N7j"
      }
    },
    {
      "cell_type": "markdown",
      "source": [
        "### Project Overview\n",
        "\n",
        "* Develops a predictive business intelligence tool to forecast future customer behavior from transactional data.\n",
        "* Uses a **Beta-Geometric (BG/NBD)** statistical model to predict the number of future purchases for each customer.\n",
        "* Employs a **Gamma-Gamma** model to estimate the future monetary value of those purchases, leading to a **Customer Lifetime Value (CLV)** prediction.\n",
        "* Trains a **Random Forest** machine learning model to calculate the **Churn Risk** (probability of a customer leaving) based on their predicted value and purchasing habits.\n",
        "* The final output is a **Strategic Customer Segmentation Matrix** that visually categorizes customers based on their predicted value versus their risk of churning.\n",
        "\n",
        "***\n",
        "\n",
        "### Purpose of the Project\n",
        "\n",
        "* To create a forward-looking \"oracle\" that moves beyond historical reporting (\"what happened\") to predictive intelligence (\"what will happen\").\n",
        "* To provide a **data-driven framework** for prioritizing customers, enabling a business to focus its most valuable resources on the right segments.\n",
        "* To empower strategic decision-making by identifying key customer groups, such as \"VIPs at High Risk\" or \"High Potentials,\" allowing for targeted and effective actions.\n",
        "* To create **actionable intelligence** that directly informs marketing, sales, and retention strategies to maximize profitability and ensure sustainable growth.\n",
        "\n"
      ],
      "metadata": {
        "id": "BevtS8od5_9h"
      }
    },
    {
      "cell_type": "markdown",
      "source": [
        "## Install necessary libraries"
      ],
      "metadata": {
        "id": "c45YJ7e76kOF"
      }
    },
    {
      "cell_type": "code",
      "source": [
        "!pip install pandas numpy scikit-learn lifetimes seaborn matplotlib -q\n",
        "print(\"Libraries installed\")"
      ],
      "metadata": {
        "colab": {
          "base_uri": "https://localhost:8080/"
        },
        "id": "m5_Aqood6mMX",
        "outputId": "1d014260-e2f8-460d-8b0c-e1e643fe4cab"
      },
      "execution_count": 2,
      "outputs": [
        {
          "output_type": "stream",
          "name": "stdout",
          "text": [
            "Libraries installed\n"
          ]
        }
      ]
    },
    {
      "cell_type": "markdown",
      "source": [
        "## Import libraries"
      ],
      "metadata": {
        "id": "vCN0pS3b6od4"
      }
    },
    {
      "cell_type": "code",
      "source": [
        "import pandas as pd\n",
        "import numpy as np\n",
        "from sklearn.model_selection import train_test_split\n",
        "from sklearn.ensemble import RandomForestClassifier\n",
        "from sklearn.metrics import classification_report, roc_auc_score\n",
        "from lifetimes.datasets import load_cdnow_summary_data_with_monetary_value\n",
        "from lifetimes import GammaGammaFitter, BetaGeoFitter\n",
        "from lifetimes.plotting import plot_period_transactions\n",
        "import matplotlib.pyplot as plt\n",
        "import seaborn as sns\n",
        "print(\"Imported\")"
      ],
      "metadata": {
        "colab": {
          "base_uri": "https://localhost:8080/"
        },
        "id": "sQNog2w77J58",
        "outputId": "4a5474cc-80f0-470a-bd34-53e69834a1b9"
      },
      "execution_count": 4,
      "outputs": [
        {
          "output_type": "stream",
          "name": "stdout",
          "text": [
            "Imported\n"
          ]
        }
      ]
    },
    {
      "cell_type": "markdown",
      "source": [
        "## Load and Prepare the Dataset"
      ],
      "metadata": {
        "id": "nLZCss2g8jIb"
      }
    },
    {
      "cell_type": "markdown",
      "source": [
        "* We will use the CDNOW dataset, which is a classic dataset for CLV analysis.\n",
        "\n",
        "* It contains the transaction history for a cohort of customers."
      ],
      "metadata": {
        "id": "Ac9AsSXU81rC"
      }
    },
    {
      "cell_type": "code",
      "source": [
        "summary = load_cdnow_summary_data_with_monetary_value()\n",
        "summary.rename(columns={'frequency': 'frequency_cal', 'recency': 'recency_cal', 'T': 'T_cal', 'monetary_value': 'monetary_value_cal'}, inplace=True)"
      ],
      "metadata": {
        "id": "F9rViLAB879L"
      },
      "execution_count": 5,
      "outputs": []
    },
    {
      "cell_type": "markdown",
      "source": [
        "### Sample of the Customer Dataset"
      ],
      "metadata": {
        "id": "we--FvOO8-Tx"
      }
    },
    {
      "cell_type": "markdown",
      "source": [
        "- frequency_cal: Number of repeat purchases\n",
        "- recency_cal: Age of the customer at their last purchase\n",
        "- T_cal: Age of the customer in days\n",
        "- monetary_value_cal: Average value of a customer's purchases"
      ],
      "metadata": {
        "id": "5gtlHixQ9Jsg"
      }
    },
    {
      "cell_type": "code",
      "source": [
        "print(summary.head())"
      ],
      "metadata": {
        "colab": {
          "base_uri": "https://localhost:8080/"
        },
        "id": "UKIPfgFG9DTJ",
        "outputId": "2f5ea828-1dc9-438f-b404-d213d0a5e80c"
      },
      "execution_count": 7,
      "outputs": [
        {
          "output_type": "stream",
          "name": "stdout",
          "text": [
            "             frequency_cal  recency_cal  T_cal  monetary_value_cal\n",
            "customer_id                                                       \n",
            "1                        2        30.43  38.86               22.35\n",
            "2                        1         1.71  38.86               11.77\n",
            "3                        0         0.00  38.86                0.00\n",
            "4                        0         0.00  38.86                0.00\n",
            "5                        0         0.00  38.86                0.00\n"
          ]
        }
      ]
    },
    {
      "cell_type": "markdown",
      "source": [
        "## Model Future Transactions with Beta-Geometric (BG/NBD) Model"
      ],
      "metadata": {
        "id": "8N1EgvuJ9HkF"
      }
    },
    {
      "cell_type": "code",
      "source": [
        "# predicts the number of future purchases\n",
        "bgf = BetaGeoFitter(penalizer_coef=0.0)\n",
        "bgf.fit(summary['frequency_cal'], summary['recency_cal'], summary['T_cal'])\n",
        "\n",
        "# Predict the number of purchases in the next 90 days\n",
        "t = 90 # days\n",
        "summary['predicted_purchases'] = bgf.conditional_expected_number_of_purchases_up_to_time(t, summary['frequency_cal'], summary['recency_cal'], summary['T_cal'])\n",
        "print(summary.sort_values(by='predicted_purchases', ascending=False).head())"
      ],
      "metadata": {
        "colab": {
          "base_uri": "https://localhost:8080/"
        },
        "id": "KW49vta49hAi",
        "outputId": "00eb7166-92d7-43f3-8606-2437ba39dc2c"
      },
      "execution_count": 8,
      "outputs": [
        {
          "output_type": "stream",
          "name": "stdout",
          "text": [
            "             frequency_cal  recency_cal  T_cal  monetary_value_cal  \\\n",
            "customer_id                                                          \n",
            "1516                    26        30.86  31.00               39.97   \n",
            "157                     29        37.71  38.00               26.26   \n",
            "841                     19        34.00  34.14               29.49   \n",
            "1981                    17        28.43  28.86               48.23   \n",
            "509                     18        35.14  35.86               78.63   \n",
            "\n",
            "             predicted_purchases  \n",
            "customer_id                       \n",
            "1516                   37.683818  \n",
            "157                    37.153033  \n",
            "841                    26.089972  \n",
            "1981                   25.557312  \n",
            "509                    23.711534  \n"
          ]
        }
      ]
    },
    {
      "cell_type": "markdown",
      "source": [
        "## Model Customer Lifetime Value (CLV) with Gamma-Gamma Model"
      ],
      "metadata": {
        "id": "qgrdgcqe90Xb"
      }
    },
    {
      "cell_type": "code",
      "source": [
        "# Consider customers who have made repeat purchases\n",
        "returning_customers_summary = summary[summary['frequency_cal'] > 0]\n",
        "ggf = GammaGammaFitter(penalizer_coef=0)\n",
        "ggf.fit(returning_customers_summary['frequency_cal'], returning_customers_summary['monetary_value_cal'])\n",
        "\n",
        "# Predict the CLV for the next 90 days\n",
        "summary['predicted_clv'] = ggf.customer_lifetime_value(\n",
        "    bgf,\n",
        "    summary['frequency_cal'],\n",
        "    summary['recency_cal'],\n",
        "    summary['T_cal'],\n",
        "    summary['monetary_value_cal'],\n",
        "    time=3, # 3 months\n",
        "    discount_rate=0.01 # monthly discount rate\n",
        ")\n",
        "\n",
        "print('Top 10 Most Valuable Customers')\n",
        "print(summary.sort_values(by='predicted_clv', ascending=False).head(10))"
      ],
      "metadata": {
        "colab": {
          "base_uri": "https://localhost:8080/"
        },
        "id": "-UkXBeYi-TfS",
        "outputId": "9aa0d146-210c-4a98-f457-bfb145240e1a"
      },
      "execution_count": 12,
      "outputs": [
        {
          "output_type": "stream",
          "name": "stdout",
          "text": [
            "Top 10 Most Valuable Customers\n",
            "             frequency_cal  recency_cal  T_cal  monetary_value_cal  \\\n",
            "customer_id                                                          \n",
            "509                     18        35.14  35.86               78.63   \n",
            "1081                    11        32.00  33.14              106.53   \n",
            "1516                    26        30.86  31.00               39.97   \n",
            "1560                     8        28.71  30.86              117.46   \n",
            "1981                    17        28.43  28.86               48.23   \n",
            "801                      7        33.71  34.43              124.61   \n",
            "157                     29        37.71  38.00               26.26   \n",
            "164                     10        37.00  37.86               62.44   \n",
            "841                     19        34.00  34.14               29.49   \n",
            "1365                     9        30.57  31.71               61.41   \n",
            "\n",
            "             predicted_purchases  predicted_clv        churn  \n",
            "customer_id                                                   \n",
            "509                    23.711534    1807.084891  Not Churned  \n",
            "1081                   15.115292    1540.865909  Not Churned  \n",
            "1516                   37.683818    1476.665877  Not Churned  \n",
            "1560                   11.215625    1246.754461  Not Churned  \n",
            "1981                   25.557312    1202.635276  Not Churned  \n",
            "801                     9.576474    1122.267889  Not Churned  \n",
            "157                    37.153033     963.077679  Not Churned  \n",
            "164                    12.805004     770.762682  Not Churned  \n",
            "841                    26.089972     759.002693  Not Churned  \n",
            "1365                   12.735340     752.877841  Not Churned  \n"
          ]
        }
      ]
    },
    {
      "cell_type": "markdown",
      "source": [
        "## Model Churn Risk"
      ],
      "metadata": {
        "id": "P2hQHnXf-u-9"
      }
    },
    {
      "cell_type": "code",
      "source": [
        "# Synthetic 'churn' column\n",
        "churn_threshold_purchases = summary['predicted_purchases'].quantile(0.2)\n",
        "churn_threshold_clv = summary['predicted_clv'].quantile(0.2)\n",
        "\n",
        "summary['churn'] = 'Not Churned'\n",
        "summary.loc[(summary['predicted_purchases'] < churn_threshold_purchases) & (summary['predicted_clv'] < churn_threshold_clv), 'churn'] = 'Churned'\n",
        "\n",
        "# Prepare data for the classification model\n",
        "features = ['recency_cal', 'T_cal', 'monetary_value_cal', 'predicted_purchases']\n",
        "X = summary[features]\n",
        "y = summary['churn']\n",
        "\n",
        "# Handle potential NaN values in features\n",
        "X.fillna(0, inplace=True)\n",
        "\n",
        "X_train, X_test, y_train, y_test = train_test_split(X, y, test_size=0.3, random_state=42, stratify=y)\n",
        "\n",
        "# Train a Random Forest Classifier\n",
        "rf_classifier = RandomForestClassifier(n_estimators=100, random_state=42, class_weight='balanced')\n",
        "rf_classifier.fit(X_train, y_train)\n",
        "\n",
        "# Evaluate the churn model\n",
        "y_pred = rf_classifier.predict(X_test)\n",
        "print(\"Business Intelligence: Churn Prediction Model Evaluation\")\n",
        "print(classification_report(y_test, y_pred))\n"
      ],
      "metadata": {
        "colab": {
          "base_uri": "https://localhost:8080/"
        },
        "id": "7REXOmJ2-2s0",
        "outputId": "d9515341-b47d-470c-b11d-8bd24137783d"
      },
      "execution_count": 11,
      "outputs": [
        {
          "output_type": "stream",
          "name": "stdout",
          "text": [
            "Business Intelligence: Churn Prediction Model Evaluation\n",
            "              precision    recall  f1-score   support\n",
            "\n",
            "     Churned       0.99      0.99      0.99       117\n",
            " Not Churned       1.00      1.00      1.00       591\n",
            "\n",
            "    accuracy                           1.00       708\n",
            "   macro avg       0.99      0.99      0.99       708\n",
            "weighted avg       1.00      1.00      1.00       708\n",
            "\n"
          ]
        }
      ]
    },
    {
      "cell_type": "markdown",
      "source": [
        "## Generate Actionable Business Intelligence"
      ],
      "metadata": {
        "id": "Mlh4zoD2_Qar"
      }
    },
    {
      "cell_type": "markdown",
      "source": [
        "* The Oracle Project: Actionable Business Intelligence"
      ],
      "metadata": {
        "id": "N01RDEl__4nT"
      }
    },
    {
      "cell_type": "code",
      "source": [
        "# Segment customers based on CLV and Churn Risk\n",
        "summary['clv_segment'] = pd.qcut(summary['predicted_clv'].rank(method='first'), q=4, labels=['Low Value', 'Medium Value', 'High Value', 'VIP'])\n",
        "\n",
        "# Predict churn probability for the entire dataset\n",
        "summary['churn_probability'] = rf_classifier.predict_proba(X[features])[:, 1]\n",
        "summary['churn_risk_segment'] = pd.qcut(summary['churn_probability'].rank(method='first'), q=4, labels=['Low Risk', 'Medium Risk', 'High Risk', 'Very High Risk'])\n",
        "\n",
        "# Create a strategic customer segmentation matrix\n",
        "customer_segments = summary.groupby(['clv_segment', 'churn_risk_segment']).size().unstack(fill_value=0)\n",
        "\n",
        "print(\"\\nStrategic Customer Segmentation Matrix\")\n",
        "plt.figure(figsize=(12, 8))\n",
        "sns.heatmap(customer_segments, annot=True, fmt='d', cmap='YlGnBu')\n",
        "plt.title('Customer Segmentation: CLV vs. Churn Risk')\n",
        "plt.ylabel('CLV Segment')\n",
        "plt.xlabel('Churn Risk Segment')\n",
        "plt.show()\n"
      ],
      "metadata": {
        "colab": {
          "base_uri": "https://localhost:8080/",
          "height": 755
        },
        "id": "zcgSC_gA_8NK",
        "outputId": "9a9726c7-b7cf-403e-f4f7-284802294642"
      },
      "execution_count": 13,
      "outputs": [
        {
          "output_type": "stream",
          "name": "stdout",
          "text": [
            "\n",
            "Strategic Customer Segmentation Matrix\n"
          ]
        },
        {
          "output_type": "display_data",
          "data": {
            "text/plain": [
              "<Figure size 1200x800 with 2 Axes>"
            ],
            "image/png": "[encoded data removed]"
          },
          "metadata": {}
        }
      ]
    },
    {
      "cell_type": "markdown",
      "source": [
        "## Strategic Recommendations"
      ],
      "metadata": {
        "id": "-gdxat-kARPF"
      }
    },
    {
      "cell_type": "markdown",
      "source": [
        "**1. VIPs at High Risk (High Value, High Risk):**\n",
        "   - **Action:** Proactive Retention Campaign. Assign a dedicated account manager, offer exclusive discounts, or provide loyalty rewards.\n",
        "   - **BI Insight:** These are your most valuable customers who are about to leave. The ROI on retaining them is highest.\n",
        "\n",
        "**2. High Potential (High Value, Low Risk):**\n",
        "   - **Action:** Nurture and Upsell. Introduce them to new products, premium services, or loyalty programs to further increase their value.\n",
        "   - **BI Insight:** These are your brand champions. Leverage them for testimonials and referrals.\n",
        "\n",
        "**3. At-Risk Potentials (Medium Value, High Risk):**\n",
        "   - **Action:** Automated Retention. Send personalized emails with special offers or conduct surveys to understand their dissatisfaction.\n",
        "   - **BI Insight:** A targeted, automated campaign can efficiently retain this group without overspending.\n",
        "\n",
        "**4. Low Value, Low Risk:**\n",
        "   - **Action:** Monitor and Maintain. Keep them engaged with standard marketing communications. No need for expensive, personalized outreach.\n",
        "   - **BI Insight:** This group is stable but provides lower returns. A low-cost communication strategy is most effective.\n"
      ],
      "metadata": {
        "id": "xGE1tXDBAbzX"
      }
    }
  ]
}