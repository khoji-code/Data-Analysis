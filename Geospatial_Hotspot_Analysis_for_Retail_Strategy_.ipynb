{
 "cells": [
  {
   "cell_type": "markdown",
   "id": "6a0d8f22-bf64-4954-91e8-98249320acfa",
   "metadata": {},
   "source": [
    "# Geospatial Hotspot Analysis for Retail Strategy"
   ]
  },
  {
   "cell_type": "markdown",
   "id": "92753926-a945-4846-bb80-ebc552c0bc0a",
   "metadata": {},
   "source": [
    "https://colab.research.google.com/drive/1F7lLfQIIQoxOZ0x02t7mDnjcS6Vxdmei?usp=sharing"
   ]
  }
 ],
 "metadata": {
  "kernelspec": {
   "display_name": "Python 3 (ipykernel)",
   "language": "python",
   "name": "python3"
  },
  "language_info": {
   "codemirror_mode": {
    "name": "ipython",
    "version": 3
   },
   "file_extension": ".py",
   "mimetype": "text/x-python",
   "name": "python",
   "nbconvert_exporter": "python",
   "pygments_lexer": "ipython3",
   "version": "3.10.13"
  }
 },
 "nbformat": 4,
 "nbformat_minor": 5
}
