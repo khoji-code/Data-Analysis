{
 "cells": [
  {
   "cell_type": "markdown",
   "id": "2b42e06a-3af9-44ce-8368-9eaf78864073",
   "metadata": {},
   "source": [
    "# Specialized_Business_Intelligence_Assistant_via_LLM_Fine_Tuning_Gemma"
   ]
  },
  {
   "cell_type": "markdown",
   "id": "eead1093-1489-4694-b1e2-8905083e00e0",
   "metadata": {},
   "source": [
    "https://khoji-code.github.io/Data-Science-AI-for-Business-Portfolio/llm.html"
   ]
  }
 ],
 "metadata": {
  "kernelspec": {
   "display_name": "Python 3 (ipykernel)",
   "language": "python",
   "name": "python3"
  },
  "language_info": {
   "codemirror_mode": {
    "name": "ipython",
    "version": 3
   },
   "file_extension": ".py",
   "mimetype": "text/x-python",
   "name": "python",
   "nbconvert_exporter": "python",
   "pygments_lexer": "ipython3",
   "version": "3.10.13"
  }
 },
 "nbformat": 4,
 "nbformat_minor": 5
}
