{
 "cells": [
  {
   "cell_type": "markdown",
   "id": "fe769920-5c2f-494f-b83b-5a837dacde62",
   "metadata": {},
   "source": [
    "# Large Scale Social Media Sentiment Analysis"
   ]
  },
  {
   "cell_type": "markdown",
   "id": "e3e0763c-8c01-421d-805e-97851496bb30",
   "metadata": {},
   "source": [
    "https://colab.research.google.com/drive/1Zz85yypsoakn4GrqEIxaDy9PBApY4IhI?usp=sharing"
   ]
  }
 ],
 "metadata": {
  "kernelspec": {
   "display_name": "Python 3 (ipykernel)",
   "language": "python",
   "name": "python3"
  },
  "language_info": {
   "codemirror_mode": {
    "name": "ipython",
    "version": 3
   },
   "file_extension": ".py",
   "mimetype": "text/x-python",
   "name": "python",
   "nbconvert_exporter": "python",
   "pygments_lexer": "ipython3",
   "version": "3.10.13"
  }
 },
 "nbformat": 4,
 "nbformat_minor": 5
}
