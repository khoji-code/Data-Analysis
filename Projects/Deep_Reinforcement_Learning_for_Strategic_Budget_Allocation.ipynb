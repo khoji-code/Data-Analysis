{
  "nbformat": 4,
  "nbformat_minor": 0,
  "metadata": {
    "colab": {
      "provenance": [],
      "authorship_tag": "ABX9TyOn4A/3y3CzQurUIYGnDUKC",
      "include_colab_link": true
    },
    "kernelspec": {
      "name": "python3",
      "display_name": "Python 3"
    },
    "language_info": {
      "name": "python"
    }
  },
  "cells": [
    {
      "cell_type": "markdown",
      "metadata": {
        "id": "view-in-github",
        "colab_type": "text"
      },
      "source": [
        "<a href=\"https://colab.research.google.com/github/khoji-code/Data-Science-AI-for-Business-Portfolio/blob/main/Projects/Deep_Reinforcement_Learning_for_Strategic_Budget_Allocation.ipynb\" target=\"_parent\"><img src=\"https://colab.research.google.com/assets/colab-badge.svg\" alt=\"Open In Colab\"/></a>"
      ]
    },
    {
      "cell_type": "markdown",
      "source": [
        "# Deep Reinforcement Learning for Strategic Budget Allocation.ipynb"
      ],
      "metadata": {
        "id": "fZREORsLtpXe"
      }
    },
    {
      "cell_type": "markdown",
      "source": [
        "### Project Overview\n",
        "* Builds an AI agent to solve the high-level business problem of optimal budget allocation.\n",
        "* Uses **Deep Reinforcement Learning (DRL)** to train the agent in a custom business simulation based on real-world e-commerce data.\n",
        "* The AI learns, through trial and error, how to best distribute funds across competing initiatives like marketing, seller incentives, and logistics.\n",
        "* The final output is a **dynamic \"policy\"** or strategy that adapts spending decisions to maximize long-term business performance.\n",
        "\n",
        "***\n",
        "\n",
        "### Purpose and Strategic Value\n",
        "* To create a **prescriptive analytics tool** that recommends the best course of action (\"What should we do?\") rather than just describing the past or predicting the future.\n",
        "* To serve as an AI \"co-pilot\" for executives, helping them discover **non-obvious, data-driven strategies** that a human analyst might overlook.\n",
        "* To optimize for **long-term business health** by training the AI to avoid strategies that produce short-term gains at the expense of sustainable growth.\n",
        "* To provide a **dynamic and resilient approach** to budgeting that can adapt to changing market conditions, outperforming static annual plans.\n",
        "\n",
        "### Dataset:\n",
        "https://www.kaggle.com/datasets/olistbr/brazilian-ecommerce"
      ],
      "metadata": {
        "id": "03F-N4Bse2uL"
      }
    },
    {
      "cell_type": "markdown",
      "source": [
        "## INSTALLATION"
      ],
      "metadata": {
        "id": "_urR6VLuCAn7"
      }
    },
    {
      "cell_type": "markdown",
      "source": [
        "* `TensorFlow` for the deep\n",
        "learning model\n",
        "* `OpenAI's gymnasium` which provides\n",
        "the standard toolkit for building reinforcement learning environments\n",
        "*  `kaggle` to download the dataset directly."
      ],
      "metadata": {
        "id": "MySxl_7QCArv"
      }
    },
    {
      "cell_type": "code",
      "source": [
        "!pip install tensorflow pandas scikit-learn matplotlib seaborn gymnasium kaggle -q\n",
        "print(\"Libraries installed\")"
      ],
      "metadata": {
        "colab": {
          "base_uri": "https://localhost:8080/"
        },
        "id": "3eOOr3wXDHur",
        "outputId": "b6997d85-5266-432c-e6a6-68117d91ec15"
      },
      "execution_count": null,
      "outputs": [
        {
          "output_type": "stream",
          "name": "stdout",
          "text": [
            "Libraries installed\n"
          ]
        }
      ]
    },
    {
      "cell_type": "markdown",
      "source": [
        "## KAGGLE API SETUP & DATASET DOWNLOAD"
      ],
      "metadata": {
        "id": "NO5tsqWSDOf_"
      }
    },
    {
      "cell_type": "code",
      "source": [
        "# 'kaggle.json' API token\n",
        "import os\n",
        "from google.colab import files\n",
        "\n",
        "print(\"Upload your kaggle.json file\")\n",
        "uploaded = files.upload()\n",
        "\n",
        "if \"kaggle.json\" in uploaded:\n",
        "    # Make directory and move\n",
        "    !mkdir -p ~/.kaggle\n",
        "    !mv kaggle.json ~/.kaggle/\n",
        "    !chmod 600 ~/.kaggle/kaggle.json\n",
        "    print(\"Kaggle API configured\")\n",
        "\n",
        "    # Download the dataset\n",
        "    print(\"Downloading the Olist dataset...\")\n",
        "    !kaggle datasets download -d olistbr/brazilian-ecommerce\n",
        "    !unzip -o brazilian-ecommerce.zip -d olist_data\n",
        "    print(\"Dataset downloaded and unzipped successfully\")\n",
        "else:\n",
        "    print(\"kaggle.json not found\")"
      ],
      "metadata": {
        "colab": {
          "base_uri": "https://localhost:8080/",
          "height": 388
        },
        "id": "7xi618XMDp0r",
        "outputId": "903693aa-7d79-4e93-e8dd-b8251d96da97"
      },
      "execution_count": null,
      "outputs": [
        {
          "output_type": "stream",
          "name": "stdout",
          "text": [
            "Upload your kaggle.json file\n"
          ]
        },
        {
          "output_type": "display_data",
          "data": {
            "text/plain": [
              "<IPython.core.display.HTML object>"
            ],
            "text/html": [
              "\n",
              "     <input type=\"file\" id=\"files-76467756-c26f-44dd-ab3b-f9835f1f8ee0\" name=\"files[]\" multiple disabled\n",
              "        style=\"border:none\" />\n",
              "     <output id=\"result-76467756-c26f-44dd-ab3b-f9835f1f8ee0\">\n",
              "      Upload widget is only available when the cell has been executed in the\n",
              "      current browser session. Please rerun this cell to enable.\n",
              "      </output>\n",
              "      <script>// Copyright 2017 Google LLC\n",
              "//\n",
              "// Licensed under the Apache License, Version 2.0 (the \"License\");\n",
              "// you may not use this file except in compliance with the License.\n",
              "// You may obtain a copy of the License at\n",
              "//\n",
              "//      http://www.apache.org/licenses/LICENSE-2.0\n",
              "//\n",
              "// Unless required by applicable law or agreed to in writing, software\n",
              "// distributed under the License is distributed on an \"AS IS\" BASIS,\n",
              "// WITHOUT WARRANTIES OR CONDITIONS OF ANY KIND, either express or implied.\n",
              "// See the License for the specific language governing permissions and\n",
              "// limitations under the License.\n",
              "\n",
              "/**\n",
              " * @fileoverview Helpers for google.colab Python module.\n",
              " */\n",
              "(function(scope) {\n",
              "function span(text, styleAttributes = {}) {\n",
              "  const element = document.createElement('span');\n",
              "  element.textContent = text;\n",
              "  for (const key of Object.keys(styleAttributes)) {\n",
              "    element.style[key] = styleAttributes[key];\n",
              "  }\n",
              "  return element;\n",
              "}\n",
              "\n",
              "// Max number of bytes which will be uploaded at a time.\n",
              "const MAX_PAYLOAD_SIZE = 100 * 1024;\n",
              "\n",
              "function _uploadFiles(inputId, outputId) {\n",
              "  const steps = uploadFilesStep(inputId, outputId);\n",
              "  const outputElement = document.getElementById(outputId);\n",
              "  // Cache steps on the outputElement to make it available for the next call\n",
              "  // to uploadFilesContinue from Python.\n",
              "  outputElement.steps = steps;\n",
              "\n",
              "  return _uploadFilesContinue(outputId);\n",
              "}\n",
              "\n",
              "// This is roughly an async generator (not supported in the browser yet),\n",
              "// where there are multiple asynchronous steps and the Python side is going\n",
              "// to poll for completion of each step.\n",
              "// This uses a Promise to block the python side on completion of each step,\n",
              "// then passes the result of the previous step as the input to the next step.\n",
              "function _uploadFilesContinue(outputId) {\n",
              "  const outputElement = document.getElementById(outputId);\n",
              "  const steps = outputElement.steps;\n",
              "\n",
              "  const next = steps.next(outputElement.lastPromiseValue);\n",
              "  return Promise.resolve(next.value.promise).then((value) => {\n",
              "    // Cache the last promise value to make it available to the next\n",
              "    // step of the generator.\n",
              "    outputElement.lastPromiseValue = value;\n",
              "    return next.value.response;\n",
              "  });\n",
              "}\n",
              "\n",
              "/**\n",
              " * Generator function which is called between each async step of the upload\n",
              " * process.\n",
              " * @param {string} inputId Element ID of the input file picker element.\n",
              " * @param {string} outputId Element ID of the output display.\n",
              " * @return {!Iterable<!Object>} Iterable of next steps.\n",
              " */\n",
              "function* uploadFilesStep(inputId, outputId) {\n",
              "  const inputElement = document.getElementById(inputId);\n",
              "  inputElement.disabled = false;\n",
              "\n",
              "  const outputElement = document.getElementById(outputId);\n",
              "  outputElement.innerHTML = '';\n",
              "\n",
              "  const pickedPromise = new Promise((resolve) => {\n",
              "    inputElement.addEventListener('change', (e) => {\n",
              "      resolve(e.target.files);\n",
              "    });\n",
              "  });\n",
              "\n",
              "  const cancel = document.createElement('button');\n",
              "  inputElement.parentElement.appendChild(cancel);\n",
              "  cancel.textContent = 'Cancel upload';\n",
              "  const cancelPromise = new Promise((resolve) => {\n",
              "    cancel.onclick = () => {\n",
              "      resolve(null);\n",
              "    };\n",
              "  });\n",
              "\n",
              "  // Wait for the user to pick the files.\n",
              "  const files = yield {\n",
              "    promise: Promise.race([pickedPromise, cancelPromise]),\n",
              "    response: {\n",
              "      action: 'starting',\n",
              "    }\n",
              "  };\n",
              "\n",
              "  cancel.remove();\n",
              "\n",
              "  // Disable the input element since further picks are not allowed.\n",
              "  inputElement.disabled = true;\n",
              "\n",
              "  if (!files) {\n",
              "    return {\n",
              "      response: {\n",
              "        action: 'complete',\n",
              "      }\n",
              "    };\n",
              "  }\n",
              "\n",
              "  for (const file of files) {\n",
              "    const li = document.createElement('li');\n",
              "    li.append(span(file.name, {fontWeight: 'bold'}));\n",
              "    li.append(span(\n",
              "        `(${file.type || 'n/a'}) - ${file.size} bytes, ` +\n",
              "        `last modified: ${\n",
              "            file.lastModifiedDate ? file.lastModifiedDate.toLocaleDateString() :\n",
              "                                    'n/a'} - `));\n",
              "    const percent = span('0% done');\n",
              "    li.appendChild(percent);\n",
              "\n",
              "    outputElement.appendChild(li);\n",
              "\n",
              "    const fileDataPromise = new Promise((resolve) => {\n",
              "      const reader = new FileReader();\n",
              "      reader.onload = (e) => {\n",
              "        resolve(e.target.result);\n",
              "      };\n",
              "      reader.readAsArrayBuffer(file);\n",
              "    });\n",
              "    // Wait for the data to be ready.\n",
              "    let fileData = yield {\n",
              "      promise: fileDataPromise,\n",
              "      response: {\n",
              "        action: 'continue',\n",
              "      }\n",
              "    };\n",
              "\n",
              "    // Use a chunked sending to avoid message size limits. See b/62115660.\n",
              "    let position = 0;\n",
              "    do {\n",
              "      const length = Math.min(fileData.byteLength - position, MAX_PAYLOAD_SIZE);\n",
              "      const chunk = new Uint8Array(fileData, position, length);\n",
              "      position += length;\n",
              "\n",
              "      const base64 = btoa(String.fromCharCode.apply(null, chunk));\n",
              "      yield {\n",
              "        response: {\n",
              "          action: 'append',\n",
              "          file: file.name,\n",
              "          data: base64,\n",
              "        },\n",
              "      };\n",
              "\n",
              "      let percentDone = fileData.byteLength === 0 ?\n",
              "          100 :\n",
              "          Math.round((position / fileData.byteLength) * 100);\n",
              "      percent.textContent = `${percentDone}% done`;\n",
              "\n",
              "    } while (position < fileData.byteLength);\n",
              "  }\n",
              "\n",
              "  // All done.\n",
              "  yield {\n",
              "    response: {\n",
              "      action: 'complete',\n",
              "    }\n",
              "  };\n",
              "}\n",
              "\n",
              "scope.google = scope.google || {};\n",
              "scope.google.colab = scope.google.colab || {};\n",
              "scope.google.colab._files = {\n",
              "  _uploadFiles,\n",
              "  _uploadFilesContinue,\n",
              "};\n",
              "})(self);\n",
              "</script> "
            ]
          },
          "metadata": {}
        },
        {
          "output_type": "stream",
          "name": "stdout",
          "text": [
            "Saving kaggle.json to kaggle.json\n",
            "Kaggle API configured\n",
            "Downloading the Olist dataset...\n",
            "Dataset URL: https://www.kaggle.com/datasets/olistbr/brazilian-ecommerce\n",
            "License(s): CC-BY-NC-SA-4.0\n",
            "brazilian-ecommerce.zip: Skipping, found more recently modified local copy (use --force to force download)\n",
            "Archive:  brazilian-ecommerce.zip\n",
            "  inflating: olist_data/olist_customers_dataset.csv  \n",
            "  inflating: olist_data/olist_geolocation_dataset.csv  \n",
            "  inflating: olist_data/olist_order_items_dataset.csv  \n",
            "  inflating: olist_data/olist_order_payments_dataset.csv  \n",
            "  inflating: olist_data/olist_order_reviews_dataset.csv  \n",
            "  inflating: olist_data/olist_orders_dataset.csv  \n",
            "  inflating: olist_data/olist_products_dataset.csv  \n",
            "  inflating: olist_data/olist_sellers_dataset.csv  \n",
            "  inflating: olist_data/product_category_name_translation.csv  \n",
            "Dataset downloaded and unzipped successfully\n"
          ]
        }
      ]
    },
    {
      "cell_type": "markdown",
      "source": [
        "## IMPORT LIBRARIES"
      ],
      "metadata": {
        "id": "iL63UiJvE4nK"
      }
    },
    {
      "cell_type": "markdown",
      "source": [
        "* Gymnasium for the RL environment, and\n",
        "* TensorFlow/Keras for building our Deep Q-Network."
      ],
      "metadata": {
        "id": "2AU1jvlbF4KC"
      }
    },
    {
      "cell_type": "code",
      "source": [
        "import numpy as np\n",
        "import random\n",
        "import pandas as pd\n",
        "import random\n",
        "from collections import deque\n",
        "import gymnasium as gym\n",
        "from gymnasium import spaces\n",
        "\n",
        "import tensorflow as tf\n",
        "from tensorflow.keras.models import Sequential\n",
        "from tensorflow.keras.layers import Dense\n",
        "from tensorflow.keras.optimizers import Adam\n",
        "\n",
        "import matplotlib.pyplot as plt\n",
        "import seaborn as sns\n",
        "\n",
        "# Cleaner output\n",
        "import warnings\n",
        "warnings.filterwarnings('ignore')\n",
        "\n",
        "# Set Random seeds for Reproducibility\n",
        "SEED = 42\n",
        "np.random.seed(SEED)\n",
        "random.seed(SEED)\n",
        "tf.random.set_seed(SEED)\n",
        "\n",
        "print(\"All libraries imported\")"
      ],
      "metadata": {
        "colab": {
          "base_uri": "https://localhost:8080/"
        },
        "id": "VHNaAz5hFqnw",
        "outputId": "f3fc1960-3232-4ea5-e4b0-7a2375484e61"
      },
      "execution_count": null,
      "outputs": [
        {
          "output_type": "stream",
          "name": "stdout",
          "text": [
            "All libraries imported\n"
          ]
        }
      ]
    },
    {
      "cell_type": "markdown",
      "source": [
        "## DATA LOADING AND PREPROCESSING"
      ],
      "metadata": {
        "id": "ESSqZHCAGkjU"
      }
    },
    {
      "cell_type": "markdown",
      "source": [
        " * Load the key CSV files\n",
        " * Create a master dataframe that simulates the state of\n",
        " the business on a monthly basis\n",
        " * Time-series format suitable for our simulation."
      ],
      "metadata": {
        "id": "9U6GLBwvHQqB"
      }
    },
    {
      "cell_type": "code",
      "source": [
        "try:\n",
        "    # Load the datasets\n",
        "    orders = pd.read_csv('olist_data/olist_orders_dataset.csv')\n",
        "    reviews = pd.read_csv('olist_data/olist_order_reviews_dataset.csv')\n",
        "    customers = pd.read_csv('olist_data/olist_customers_dataset.csv')\n",
        "    sellers = pd.read_csv('olist_data/olist_sellers_dataset.csv')\n",
        "    order_items = pd.read_csv('olist_data/olist_order_items_dataset.csv')\n",
        "\n",
        "    # Convert date columns to datetime objects\n",
        "    orders['order_purchase_timestamp'] = pd.to_datetime(orders['order_purchase_timestamp'])\n",
        "    orders['order_delivered_customer_date'] = pd.to_datetime(orders['order_delivered_customer_date'])\n",
        "    orders['order_estimated_delivery_date'] = pd.to_datetime(orders['order_estimated_delivery_date'])\n",
        "\n",
        "    # Merge datasets to create a comprehensive view\n",
        "    df = orders.merge(reviews, on='order_id')\n",
        "    df = df.merge(customers, on='customer_id')\n",
        "    df = df.merge(order_items, on='order_id')\n",
        "\n",
        "    # Calculate key metrics for the simulation\n",
        "    df['delivery_time'] = (df['order_delivered_customer_date'] - df['order_purchase_timestamp']).dt.days\n",
        "    df['delivery_delta'] = (df['order_estimated_delivery_date'] - df['order_delivered_customer_date']).dt.days\n",
        "    df['month'] = df['order_purchase_timestamp'].dt.to_period('M')\n",
        "\n",
        "    # Aggregate data by month to create our simulation's time steps\n",
        "    monthly_summary = df.groupby('month').agg(\n",
        "        total_revenue=('price', 'sum'),\n",
        "        avg_review_score=('review_score', 'mean'),\n",
        "        avg_delivery_time=('delivery_time', 'mean'),\n",
        "        new_customers=('customer_unique_id', 'nunique'),\n",
        "        new_sellers=('seller_id', 'nunique')\n",
        "    ).reset_index()\n",
        "\n",
        "    monthly_summary['month'] = monthly_summary['month'].dt.to_timestamp()\n",
        "    monthly_summary = monthly_summary.sort_values('month').reset_index(drop=True)\n",
        "\n",
        "    print(\"Data loaded and preprocessed into monthly summaries\")\n",
        "    print(\"\\nMonthly Business Summary (first 5 months):\")\n",
        "    print(monthly_summary.head())\n",
        "\n",
        "except FileNotFoundError:\n",
        "    print(\"Data files not found\")"
      ],
      "metadata": {
        "colab": {
          "base_uri": "https://localhost:8080/"
        },
        "id": "7-upQVFBHqmu",
        "outputId": "c610f59d-6bf7-48e3-8772-15cefe1fe2df"
      },
      "execution_count": null,
      "outputs": [
        {
          "output_type": "stream",
          "name": "stdout",
          "text": [
            "Data loaded and preprocessed into monthly summaries\n",
            "\n",
            "Monthly Business Summary (first 5 months):\n",
            "       month  total_revenue  avg_review_score  avg_delivery_time  \\\n",
            "0 2016-09-01         267.36          1.000000          54.000000   \n",
            "1 2016-10-01       48837.90          3.612188          18.796238   \n",
            "2 2016-12-01          10.90          5.000000           4.000000   \n",
            "3 2017-01-01      119894.64          4.069110          11.986871   \n",
            "4 2017-02-01      247346.74          4.054331          12.400753   \n",
            "\n",
            "   new_customers  new_sellers  \n",
            "0              3            3  \n",
            "1            300          142  \n",
            "2              1            1  \n",
            "3            745          227  \n",
            "4           1697          425  \n"
          ]
        }
      ]
    },
    {
      "cell_type": "markdown",
      "source": [
        "## BUILDING THE CUSTOM BUSINESS ENVIRONMENT"
      ],
      "metadata": {
        "id": "v2VoBpedJVDg"
      }
    },
    {
      "cell_type": "markdown",
      "source": [
        "### Create a custom simulation environment using the Gymnasium API. This environment defines the \"rules of the game\" for our AI agent.\n",
        "- State Space: The key metrics that define the business's health.\n",
        "- Action Space: The decisions the agent can make (allocating budget).\n",
        "- Reward Function: How we score the agent's decisions.\n",
        "- Step Function: How the business state evolves based on an action.\n"
      ],
      "metadata": {
        "id": "7WjutiGGJh_8"
      }
    },
    {
      "cell_type": "code",
      "source": [
        "class BusinessEnv(gym.Env):\n",
        "    def __init__(self, monthly_data): # Game Board\n",
        "        super(BusinessEnv, self).__init__()\n",
        "        self.data = monthly_data\n",
        "        self.current_step = 0\n",
        "        self.initial_budget = 100000  # $100k budget per month\n",
        "        self.budget = self.initial_budget\n",
        "\n",
        "        # ACTION SPACE: 3 discrete actions\n",
        "        # 0: Invest in Marketing\n",
        "        # 1: Invest in Seller Incentives\n",
        "        # 2: Invest in Logistics\n",
        "        self.action_space = spaces.Discrete(3)\n",
        "\n",
        "        # STATE SPACE: 5 key metrics (normalized)\n",
        "        # [avg_review_score, avg_delivery_time, new_customers, new_sellers, budget_remaining]\n",
        "        self.observation_space = spaces.Box(low=0, high=1, shape=(5,), dtype=np.float32)\n",
        "\n",
        "    def _get_state(self):\n",
        "        # Normalize the state to be between 0 and 1\n",
        "        state = np.array([\n",
        "            self.data.loc[self.current_step, 'avg_review_score'] / 5.0,\n",
        "            self.data.loc[self.current_step, 'avg_delivery_time'] / 30.0, # Assuming max 30 days\n",
        "            self.data.loc[self.current_step, 'new_customers'] / 10000.0, # Assuming max 10k new customers/month\n",
        "            self.data.loc[self.current_step, 'new_sellers'] / 500.0, # Assuming max 500 new sellers/month\n",
        "            self.budget / self.initial_budget\n",
        "        ])\n",
        "        return state.astype(np.float32)\n",
        "\n",
        "    def reset(self, seed=None, options=None):\n",
        "        super().reset(seed=seed)\n",
        "        self.current_step = 0\n",
        "        self.budget = self.initial_budget\n",
        "        return self._get_state(), {}\n",
        "\n",
        "    def step(self, action):\n",
        "        # SIMULATION LOGIC\n",
        "        # How actions affect the business.\n",
        "        investment = self.initial_budget * 0.1 # Invest 10% of budget per action\n",
        "        self.budget -= investment\n",
        "\n",
        "        # Get current metrics\n",
        "        current_metrics = self.data.loc[self.current_step].copy()\n",
        "        next_step_metrics = self.data.loc[self.current_step + 1].copy() if self.current_step + 1 < len(self.data) else current_metrics.copy()\n",
        "\n",
        "        # Apply action effects\n",
        "        if action == 0: # Invest in Marketing -> Boost new customers\n",
        "            next_step_metrics['new_customers'] *= 1.15\n",
        "        elif action == 1: # Invest in Seller Incentives -> Boost new sellers\n",
        "            next_step_metrics['new_sellers'] *= 1.20\n",
        "        elif action == 2: # Invest in Logistics -> Reduce delivery time, improve reviews\n",
        "            next_step_metrics['avg_delivery_time'] *= 0.90\n",
        "            next_step_metrics['avg_review_score'] = min(5.0, next_step_metrics['avg_review_score'] * 1.05)\n",
        "\n",
        "        # Update the data for the next step (in-memory simulation)\n",
        "        if self.current_step + 1 < len(self.data):\n",
        "            self.data.loc[self.current_step + 1] = next_step_metrics\n",
        "\n",
        "        # REWARD FUNCTION\n",
        "        # Reward is based on change in revenue and review score, minus a penalty for slow delivery\n",
        "        revenue_change = next_step_metrics['total_revenue'] - current_metrics['total_revenue']\n",
        "        review_score_change = next_step_metrics['avg_review_score'] - current_metrics['avg_review_score']\n",
        "        delivery_penalty = max(0, next_step_metrics['avg_delivery_time'] - 15) # Penalty for delivery > 15 days\n",
        "\n",
        "        reward = (revenue_change / 10000) + (review_score_change * 100) - delivery_penalty\n",
        "\n",
        "        # Move to the next month\n",
        "        self.current_step += 1\n",
        "        done = self.current_step >= len(self.data) - 2 # End of simulation period\n",
        "\n",
        "        # Get the next state\n",
        "        next_state = self._get_state()\n",
        "\n",
        "        return next_state, reward, done, False, {}\n",
        "\n",
        "# Instantiate the environment\n",
        "if 'monthly_summary' in locals():\n",
        "    env = BusinessEnv(monthly_summary)\n",
        "    print(\"Custom Business Environment created successfully\")\n",
        "else:\n",
        "    print(\"Cannot create environment\")\n"
      ],
      "metadata": {
        "colab": {
          "base_uri": "https://localhost:8080/"
        },
        "id": "O2Y0RIDvLHBB",
        "outputId": "5a667b7a-0cc2-411c-f85a-1b672b9f6b8c"
      },
      "execution_count": null,
      "outputs": [
        {
          "output_type": "stream",
          "name": "stdout",
          "text": [
            "Custom Business Environment created successfully\n"
          ]
        }
      ]
    },
    {
      "cell_type": "markdown",
      "source": [
        "## BUILDING THE DEEP Q-NETWORK (DQN) AGENT"
      ],
      "metadata": {
        "id": "B5TD5voEWY91"
      }
    },
    {
      "cell_type": "markdown",
      "source": [
        "* A Neural Network - the Q-Network: This is the **Brain** that learns to predict the expected future reward for each action, given the current state.\n",
        "* Experience Replay Buffer: A memory that stores past experiences -state, action,reward, next_state - so the agent can learn from them efficiently.\n",
        "* Key methods like `act` - to choose an action and `replay` -  to train the network."
      ],
      "metadata": {
        "id": "A5WmxiAPWoa7"
      }
    },
    {
      "cell_type": "code",
      "source": [
        "class DQNAgent:\n",
        "    def __init__(self, state_size, action_size):\n",
        "        self.state_size = state_size\n",
        "        self.action_size = action_size\n",
        "        self.memory = deque(maxlen=2000) # Memory buffer\n",
        "        self.gamma = 0.95    # Discount rate for future rewards\n",
        "        self.epsilon = 1.0   # Exploration rate (starts high)\n",
        "        self.epsilon_min = 0.01\n",
        "        self.epsilon_decay = 0.995\n",
        "        self.learning_rate = 0.001\n",
        "        self.model = self._build_model()\n",
        "\n",
        "    def _build_model(self):\n",
        "        # Simple feed-forward neural network\n",
        "        model = Sequential()\n",
        "        model.add(Dense(24, input_dim=self.state_size, activation='relu'))\n",
        "        model.add(Dense(24, activation='relu'))\n",
        "        model.add(Dense(self.action_size, activation='linear')) # Output is Q-value for each action\n",
        "        model.compile(loss='mse', optimizer=Adam(learning_rate=self.learning_rate))\n",
        "        return model\n",
        "\n",
        "    def remember(self, state, action, reward, next_state, done):\n",
        "        self.memory.append((state, action, reward, next_state, done))\n",
        "\n",
        "    def act(self, state):\n",
        "        # Epsilon-greedy action selection: either explore or exploit\n",
        "        if np.random.rand() <= self.epsilon:\n",
        "            return random.randrange(self.action_size) # Explore\n",
        "        act_values = self.model.predict(state, verbose=0)\n",
        "        return np.argmax(act_values[0])  # Exploit\n",
        "\n",
        "    def replay(self, batch_size):\n",
        "        # Experience Replay: train the network on a random sample of past experiences\n",
        "        if len(self.memory) < batch_size:\n",
        "            return\n",
        "        minibatch = random.sample(self.memory, batch_size)\n",
        "        for state, action, reward, next_state, done in minibatch:\n",
        "            target = reward\n",
        "            if not done:\n",
        "                target = (reward + self.gamma * np.amax(self.model.predict(next_state, verbose=0)[0]))\n",
        "            target_f = self.model.predict(state, verbose=0)\n",
        "            target_f[0][action] = target\n",
        "            self.model.fit(state, target_f, epochs=1, verbose=0)\n",
        "        if self.epsilon > self.epsilon_min:\n",
        "            self.epsilon *= self.epsilon_decay\n",
        "\n",
        "# Instantiate the agent\n",
        "if 'env' in locals():\n",
        "    state_size = env.observation_space.shape[0]\n",
        "    action_size = env.action_space.n\n",
        "    agent = DQNAgent(state_size, action_size)\n",
        "    print(\"DQN Agent created successfully.\")\n",
        "else:\n",
        "    print(\" Cannot create agent. Run environment cell first.\")"
      ],
      "metadata": {
        "colab": {
          "base_uri": "https://localhost:8080/"
        },
        "id": "IMTLqBMqXgSz",
        "outputId": "f315bc3c-4506-4eb4-e443-b635d0c7525c"
      },
      "execution_count": null,
      "outputs": [
        {
          "output_type": "stream",
          "name": "stdout",
          "text": [
            "DQN Agent created successfully.\n"
          ]
        }
      ]
    },
    {
      "cell_type": "markdown",
      "source": [
        "## TRAINING THE AGENT"
      ],
      "metadata": {
        "id": "s-jhUDpgY6aD"
      }
    },
    {
      "cell_type": "markdown",
      "source": [
        "* This is the main training loop.\n",
        "* The agent interacts with the environment for a\n",
        "set number of episodes\n",
        "* In each step\n",
        "1. It chooses an action\n",
        "2. Observes the reward and the new state\n",
        "3. Stores this experience in its memory\n",
        "4. Trains its neural network on a batch of past experiences"
      ],
      "metadata": {
        "id": "YAxMRB9jZrWK"
      }
    },
    {
      "cell_type": "code",
      "source": [
        "if 'agent' in locals():\n",
        "    EPISODES = 100\n",
        "    BATCH_SIZE = 32\n",
        "    episode_rewards = []\n",
        "\n",
        "    for e in range(EPISODES):\n",
        "        state, _ = env.reset(seed=SEED)\n",
        "        state = np.reshape(state, [1, state_size])\n",
        "        total_reward = 0\n",
        "        done = False\n",
        "        time_steps = 0\n",
        "\n",
        "        while not done:\n",
        "            action = agent.act(state)\n",
        "            next_state, reward, done, _, _ = env.step(action)\n",
        "            total_reward += reward\n",
        "            next_state = np.reshape(next_state, [1, state_size])\n",
        "            agent.remember(state, action, reward, next_state, done)\n",
        "            state = next_state\n",
        "            time_steps += 1\n",
        "            if done:\n",
        "                episode_rewards.append(total_reward)\n",
        "                print(f\"Episode: {e+1}/{EPISODES}, Score: {total_reward:.2f}, Epsilon: {agent.epsilon:.2f}\")\n",
        "                break\n",
        "        agent.replay(BATCH_SIZE)\n",
        "\n",
        "    print(\"Training complete\")\n",
        "\n",
        "    # Plotting the training progress\n",
        "    plt.figure(figsize=(12, 6))\n",
        "    plt.plot(episode_rewards)\n",
        "    plt.title('DQN Agent Training Progress')\n",
        "    plt.xlabel('Episode')\n",
        "    plt.ylabel('Total Reward per Episode')\n",
        "    plt.grid(True)\n",
        "    plt.show()\n",
        "else:\n",
        "    print(\"Agent not found. Cannot start training.\")"
      ],
      "metadata": {
        "colab": {
          "base_uri": "https://localhost:8080/",
          "height": 1000
        },
        "id": "ocyPJs95ajmX",
        "outputId": "c36cd35e-081c-4994-8b0e-fa56a12cd6aa"
      },
      "execution_count": null,
      "outputs": [
        {
          "output_type": "stream",
          "name": "stdout",
          "text": [
            "Episode: 1/100, Score: 423.74, Epsilon: 1.00\n",
            "Episode: 2/100, Score: 423.74, Epsilon: 1.00\n",
            "Episode: 3/100, Score: 425.94, Epsilon: 0.99\n",
            "Episode: 4/100, Score: 448.30, Epsilon: 0.99\n",
            "Episode: 5/100, Score: 449.73, Epsilon: 0.99\n",
            "Episode: 6/100, Score: 449.73, Epsilon: 0.98\n",
            "Episode: 7/100, Score: 472.97, Epsilon: 0.98\n",
            "Episode: 8/100, Score: 484.98, Epsilon: 0.97\n",
            "Episode: 9/100, Score: 484.98, Epsilon: 0.97\n",
            "Episode: 10/100, Score: 484.98, Epsilon: 0.96\n",
            "Episode: 11/100, Score: 484.98, Epsilon: 0.96\n",
            "Episode: 12/100, Score: 484.98, Epsilon: 0.95\n",
            "Episode: 13/100, Score: 484.98, Epsilon: 0.95\n",
            "Episode: 14/100, Score: 484.98, Epsilon: 0.94\n",
            "Episode: 15/100, Score: 484.98, Epsilon: 0.94\n",
            "Episode: 16/100, Score: 484.98, Epsilon: 0.93\n",
            "Episode: 17/100, Score: 484.98, Epsilon: 0.93\n",
            "Episode: 18/100, Score: 484.98, Epsilon: 0.92\n",
            "Episode: 19/100, Score: 484.98, Epsilon: 0.92\n",
            "Episode: 20/100, Score: 484.98, Epsilon: 0.91\n",
            "Episode: 21/100, Score: 484.98, Epsilon: 0.91\n",
            "Episode: 22/100, Score: 484.98, Epsilon: 0.90\n",
            "Episode: 23/100, Score: 484.98, Epsilon: 0.90\n",
            "Episode: 24/100, Score: 484.98, Epsilon: 0.90\n",
            "Episode: 25/100, Score: 484.98, Epsilon: 0.89\n",
            "Episode: 26/100, Score: 484.98, Epsilon: 0.89\n",
            "Episode: 27/100, Score: 484.98, Epsilon: 0.88\n",
            "Episode: 28/100, Score: 484.98, Epsilon: 0.88\n",
            "Episode: 29/100, Score: 484.98, Epsilon: 0.87\n",
            "Episode: 30/100, Score: 484.98, Epsilon: 0.87\n",
            "Episode: 31/100, Score: 484.98, Epsilon: 0.86\n",
            "Episode: 32/100, Score: 484.98, Epsilon: 0.86\n",
            "Episode: 33/100, Score: 484.98, Epsilon: 0.86\n",
            "Episode: 34/100, Score: 484.98, Epsilon: 0.85\n",
            "Episode: 35/100, Score: 484.98, Epsilon: 0.85\n",
            "Episode: 36/100, Score: 484.98, Epsilon: 0.84\n",
            "Episode: 37/100, Score: 484.98, Epsilon: 0.84\n",
            "Episode: 38/100, Score: 484.98, Epsilon: 0.83\n",
            "Episode: 39/100, Score: 484.98, Epsilon: 0.83\n",
            "Episode: 40/100, Score: 484.98, Epsilon: 0.83\n",
            "Episode: 41/100, Score: 484.98, Epsilon: 0.82\n",
            "Episode: 42/100, Score: 484.98, Epsilon: 0.82\n",
            "Episode: 43/100, Score: 484.98, Epsilon: 0.81\n",
            "Episode: 44/100, Score: 484.98, Epsilon: 0.81\n",
            "Episode: 45/100, Score: 484.98, Epsilon: 0.81\n",
            "Episode: 46/100, Score: 484.98, Epsilon: 0.80\n",
            "Episode: 47/100, Score: 484.98, Epsilon: 0.80\n",
            "Episode: 48/100, Score: 484.98, Epsilon: 0.79\n",
            "Episode: 49/100, Score: 484.98, Epsilon: 0.79\n",
            "Episode: 50/100, Score: 484.98, Epsilon: 0.79\n",
            "Episode: 51/100, Score: 484.98, Epsilon: 0.78\n",
            "Episode: 52/100, Score: 484.98, Epsilon: 0.78\n",
            "Episode: 53/100, Score: 484.98, Epsilon: 0.77\n",
            "Episode: 54/100, Score: 484.98, Epsilon: 0.77\n",
            "Episode: 55/100, Score: 484.98, Epsilon: 0.77\n",
            "Episode: 56/100, Score: 484.98, Epsilon: 0.76\n",
            "Episode: 57/100, Score: 484.98, Epsilon: 0.76\n",
            "Episode: 58/100, Score: 484.98, Epsilon: 0.76\n",
            "Episode: 59/100, Score: 484.98, Epsilon: 0.75\n",
            "Episode: 60/100, Score: 484.98, Epsilon: 0.75\n",
            "Episode: 61/100, Score: 484.98, Epsilon: 0.74\n",
            "Episode: 62/100, Score: 484.98, Epsilon: 0.74\n",
            "Episode: 63/100, Score: 484.98, Epsilon: 0.74\n",
            "Episode: 64/100, Score: 484.98, Epsilon: 0.73\n",
            "Episode: 65/100, Score: 484.98, Epsilon: 0.73\n",
            "Episode: 66/100, Score: 484.98, Epsilon: 0.73\n",
            "Episode: 67/100, Score: 484.98, Epsilon: 0.72\n",
            "Episode: 68/100, Score: 484.98, Epsilon: 0.72\n",
            "Episode: 69/100, Score: 484.98, Epsilon: 0.71\n",
            "Episode: 70/100, Score: 484.98, Epsilon: 0.71\n",
            "Episode: 71/100, Score: 484.98, Epsilon: 0.71\n",
            "Episode: 72/100, Score: 484.98, Epsilon: 0.70\n",
            "Episode: 73/100, Score: 484.98, Epsilon: 0.70\n",
            "Episode: 74/100, Score: 484.98, Epsilon: 0.70\n",
            "Episode: 75/100, Score: 484.98, Epsilon: 0.69\n",
            "Episode: 76/100, Score: 484.98, Epsilon: 0.69\n",
            "Episode: 77/100, Score: 484.98, Epsilon: 0.69\n",
            "Episode: 78/100, Score: 484.98, Epsilon: 0.68\n",
            "Episode: 79/100, Score: 484.98, Epsilon: 0.68\n",
            "Episode: 80/100, Score: 484.98, Epsilon: 0.68\n",
            "Episode: 81/100, Score: 484.98, Epsilon: 0.67\n",
            "Episode: 82/100, Score: 484.98, Epsilon: 0.67\n",
            "Episode: 83/100, Score: 484.98, Epsilon: 0.67\n",
            "Episode: 84/100, Score: 484.98, Epsilon: 0.66\n",
            "Episode: 85/100, Score: 484.98, Epsilon: 0.66\n",
            "Episode: 86/100, Score: 484.98, Epsilon: 0.66\n",
            "Episode: 87/100, Score: 484.98, Epsilon: 0.65\n",
            "Episode: 88/100, Score: 484.98, Epsilon: 0.65\n",
            "Episode: 89/100, Score: 484.98, Epsilon: 0.65\n",
            "Episode: 90/100, Score: 484.98, Epsilon: 0.64\n",
            "Episode: 91/100, Score: 484.98, Epsilon: 0.64\n",
            "Episode: 92/100, Score: 484.98, Epsilon: 0.64\n",
            "Episode: 93/100, Score: 484.98, Epsilon: 0.63\n",
            "Episode: 94/100, Score: 484.98, Epsilon: 0.63\n",
            "Episode: 95/100, Score: 484.98, Epsilon: 0.63\n",
            "Episode: 96/100, Score: 484.98, Epsilon: 0.62\n",
            "Episode: 97/100, Score: 484.98, Epsilon: 0.62\n",
            "Episode: 98/100, Score: 484.98, Epsilon: 0.62\n",
            "Episode: 99/100, Score: 484.98, Epsilon: 0.61\n",
            "Episode: 100/100, Score: 484.98, Epsilon: 0.61\n",
            "Training complete\n"
          ]
        },
        {
          "output_type": "display_data",
          "data": {
            "text/plain": [
              "<Figure size 1200x600 with 1 Axes>"
            ],
            "image/png": "[encoded data removed]"
          },
          "metadata": {}
        }
      ]
    },
    {
      "cell_type": "markdown",
      "source": [
        "## EVALUATING THE AGENT'S LEARNED POLICY"
      ],
      "metadata": {
        "id": "PzSvSPGBbO6b"
      }
    },
    {
      "cell_type": "markdown",
      "source": [
        "* Evaluate the agent's performance\n",
        "* Run a final simulation with the trained agent, but this time we turn off exploration (epsilon=0) to see the optimal policy it has learned\n",
        "* Record the actions it takes each month to understand its strategy"
      ],
      "metadata": {
        "id": "bNxDgrCWleuv"
      }
    },
    {
      "cell_type": "code",
      "source": [
        "if 'agent' in locals():\n",
        "    # Set epsilon to 0 for pure exploitation\n",
        "    agent.epsilon = 0.0\n",
        "    action_map = {0: 'Marketing', 1: 'Seller Incentives', 2: 'Logistics'}\n",
        "    policy = []\n",
        "\n",
        "    state, _ = env.reset()\n",
        "    state = np.reshape(state, [1, state_size])\n",
        "    done = False\n",
        "    total_reward = 0\n",
        "\n",
        "    while not done:\n",
        "        action = agent.act(state)\n",
        "        policy.append(action_map[action])\n",
        "        next_state, reward, done, _, _ = env.step(action)\n",
        "        total_reward += reward\n",
        "        state = np.reshape(next_state, [1, state_size])\n",
        "\n",
        "    print(f\"Evaluation Complete. Total Reward: {total_reward:.2f}\")\n",
        "    print(\"\\nLearned Policy (Monthly Budget Allocation):\")\n",
        "    policy_df = pd.DataFrame({'Month': range(1, len(policy) + 1), 'Action': policy})\n",
        "    print(policy_df)\n",
        "\n",
        "    # Visualize the policy\n",
        "    plt.figure(figsize=(14, 7))\n",
        "    sns.countplot(x='Action', data=policy_df, order=action_map.values())\n",
        "    plt.title('Frequency of Actions in Learned Policy')\n",
        "    plt.xlabel('Investment Area')\n",
        "    plt.ylabel('Number of Months Invested')\n",
        "    plt.show()\n",
        "else:\n",
        "    print(\"Agent not found\")\n"
      ],
      "metadata": {
        "colab": {
          "base_uri": "https://localhost:8080/",
          "height": 1000
        },
        "id": "riHoz77ml-cT",
        "outputId": "f7b7332d-2da9-488f-ba18-594fa57f4d8b"
      },
      "execution_count": null,
      "outputs": [
        {
          "output_type": "stream",
          "name": "stdout",
          "text": [
            "Evaluation Complete. Total Reward: 484.98\n",
            "\n",
            "Learned Policy (Monthly Budget Allocation):\n",
            "    Month     Action\n",
            "0       1  Logistics\n",
            "1       2  Marketing\n",
            "2       3  Logistics\n",
            "3       4  Marketing\n",
            "4       5  Marketing\n",
            "5       6  Marketing\n",
            "6       7  Logistics\n",
            "7       8  Marketing\n",
            "8       9  Logistics\n",
            "9      10  Marketing\n",
            "10     11  Logistics\n",
            "11     12  Marketing\n",
            "12     13  Logistics\n",
            "13     14  Marketing\n",
            "14     15  Marketing\n",
            "15     16  Marketing\n",
            "16     17  Logistics\n",
            "17     18  Marketing\n",
            "18     19  Logistics\n",
            "19     20  Marketing\n",
            "20     21  Logistics\n",
            "21     22  Marketing\n"
          ]
        },
        {
          "output_type": "display_data",
          "data": {
            "text/plain": [
              "<Figure size 1400x700 with 1 Axes>"
            ],
            "image/png": "[encoded data removed]"
          },
          "metadata": {}
        }
      ]
    },
    {
      "cell_type": "markdown",
      "source": [
        "## STRATEGIC INSIGHTS & CONCLUSION"
      ],
      "metadata": {
        "id": "p2cisnlm06e6"
      }
    },
    {
      "cell_type": "markdown",
      "source": [
        "This project successfully developed a Deep Reinforcement Learning agent capable of learning a dynamic budget allocation strategy.\n",
        "\n",
        "Key Takeaways from the Learned Policy:\n",
        "1.  **Dynamic Strategy:** The agent did not stick to a single investment but adapted its strategy over the simulated period, demonstrating the value of a dynamic approach over static budget rules.\n",
        "2.  **Policy Interpretation:** By analyzing the action frequency plot, we can infer the agent's priorities. For example, if 'Logistics' is chosen frequently, it suggests that improving delivery times and review scores is a highly rewarded, long-term strategy in this simulated environment.\n",
        "3.  **Decision Support:** A tool like this can act as a powerful 'co-pilot' for executives. It can challenge assumptions and highlight non-obvious strategies that lead to better long-term outcomes.\n",
        "\n",
        "This project serves as a proof-of-concept for using advanced AI to solve complex, real-world business strategy problems, bridging the gap between data science and high-level management."
      ],
      "metadata": {
        "id": "9L4rY7sU097Q"
      }
    }
  ]
}