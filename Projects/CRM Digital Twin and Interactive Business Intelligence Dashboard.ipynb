{
 "cells": [
  {
   "cell_type": "code",
   "execution_count": null,
   "id": "13ac1e92-e3ad-4fd4-ac0e-4b357d56a68c",
   "metadata": {},
   "outputs": [],
   "source": []
  }
 ],
 "metadata": {
  "kernelspec": {
   "display_name": "",
   "name": ""
  },
  "language_info": {
   "name": ""
  }
 },
 "nbformat": 4,
 "nbformat_minor": 5
}
