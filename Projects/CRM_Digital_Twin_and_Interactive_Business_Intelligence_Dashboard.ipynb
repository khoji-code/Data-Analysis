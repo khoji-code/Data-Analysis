{
 "cells": [
  {
   "cell_type": "markdown",
   "id": "fff358f3-cc64-417f-98ef-6275f3b53d0c",
   "metadata": {},
   "source": [
    "# CRM Digital Twin and Interactive Business Intelligence Dashboard"
   ]
  },
  {
   "cell_type": "markdown",
   "id": "65002287-b7cb-4608-bcff-675b4e6a83a7",
   "metadata": {},
   "source": [
    "https://colab.research.google.com/drive/1z72xuUppDcYpVAEhzwsEgh9nq0U0zcYJ?usp=sharing"
   ]
  }
 ],
 "metadata": {
  "kernelspec": {
   "display_name": "Python 3 (ipykernel)",
   "language": "python",
   "name": "python3"
  },
  "language_info": {
   "codemirror_mode": {
    "name": "ipython",
    "version": 3
   },
   "file_extension": ".py",
   "mimetype": "text/x-python",
   "name": "python",
   "nbconvert_exporter": "python",
   "pygments_lexer": "ipython3",
   "version": "3.10.13"
  }
 },
 "nbformat": 4,
 "nbformat_minor": 5
}
