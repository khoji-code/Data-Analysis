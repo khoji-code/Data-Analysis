{
 "cells": [
  {
   "cell_type": "markdown",
   "id": "c60e0e74-76e5-431a-a3ce-573a928f05f3",
   "metadata": {},
   "source": [
    "# Predicting Customer's Next Action in an Online Shopping Clickstream"
   ]
  },
  {
   "cell_type": "markdown",
   "id": "68e3effc-ca0b-45ba-8cdf-886ae289f4c5",
   "metadata": {},
   "source": [
    "https://colab.research.google.com/drive/1pq7LdT8gWlUtO1MOHo1YR-WbML9RHnXO?usp=sharing"
   ]
  }
 ],
 "metadata": {
  "kernelspec": {
   "display_name": "Python 3 (ipykernel)",
   "language": "python",
   "name": "python3"
  },
  "language_info": {
   "codemirror_mode": {
    "name": "ipython",
    "version": 3
   },
   "file_extension": ".py",
   "mimetype": "text/x-python",
   "name": "python",
   "nbconvert_exporter": "python",
   "pygments_lexer": "ipython3",
   "version": "3.10.13"
  }
 },
 "nbformat": 4,
 "nbformat_minor": 5
}
